{
  "metadata": {
    "kernelspec": {
      "name": "python",
      "display_name": "Python (Pyodide)",
      "language": "python"
    },
    "language_info": {
      "codemirror_mode": {
        "name": "python",
        "version": 3
      },
      "file_extension": ".py",
      "mimetype": "text/x-python",
      "name": "python",
      "nbconvert_exporter": "python",
      "pygments_lexer": "ipython3",
      "version": "3.8"
    }
  },
  "nbformat_minor": 5,
  "nbformat": 4,
  "cells": [
    {
      "id": "8f8c8462-524c-4590-ae50-99034ba30f99",
      "cell_type": "markdown",
      "source": "# Proyecto Final - IBM Data Science | IBM Certificado profesional ",
      "metadata": {}
    },
    {
      "id": "25acb7b7-0e41-45e4-a055-79a209dce749",
      "cell_type": "markdown",
      "source": "## Introducción\n\nEste cuaderno forma parte del proyecto final del curso de Ciencia de Datos. En él se resumen los principales conceptos, lenguajes y herramientas de la ciencia de datos, junto con ejemplos prácticos.",
      "metadata": {
        "jp-MarkdownHeadingCollapsed": true
      }
    },
    {
      "id": "8f98d0dc-813c-44e4-b6c6-968130673cf6",
      "cell_type": "markdown",
      "source": "## Lenguajes de la Ciencia de Datos\n\nEstos son los lenguajes más utilizados en el mundo de la Ciencia de Datos:\n\n1. Python\n2. R\n3. SQL\n4. Julia\n5. Scala",
      "metadata": {}
    },
    {
      "id": "255a0680-808e-4f08-9267-26cafd5d4b9d",
      "cell_type": "markdown",
      "source": "## Bibliotecas de la Ciencia de Datos\n\nLas bibliotecas permiten acelerar el desarrollo de proyectos:\n\n1. Pandas\n2. NumPy\n3. Matplotlib\n4. Seaborn\n5. Scikit-learn",
      "metadata": {}
    },
    {
      "id": "227268d1-00b3-47f5-87a8-bd812582d5b0",
      "cell_type": "markdown",
      "source": "## Herramientas de la Ciencia de Datos\n\n| Herramienta         | Descripción                                         |\n|---------------------|-----------------------------------------------------|\n| Jupyter Notebook    | Entorno interactivo para escribir y ejecutar código |\n| RStudio             | IDE para R, usado en análisis estadístico           |\n| Apache Spark        | Motor de procesamiento de datos a gran escala       |\n| TensorFlow          | Biblioteca para aprendizaje automático              |\n| GitHub              | Plataforma para control de versiones y colaboración |",
      "metadata": {}
    },
    {
      "id": "52c2e614-9ae9-477e-9816-ea58d013f0f3",
      "cell_type": "markdown",
      "source": "## Ejemplos de Expresiones Aritméticas\n\nA continuación, veremos algunos ejemplos básicos de operaciones matemáticas simples.",
      "metadata": {}
    },
    {
      "id": "e7bdb10b-14d5-42e7-bdb6-1a8fc4fbd14d",
      "cell_type": "code",
      "source": "# Multiplicación y suma de números\na = 6\nb = 4\nresultado = (a * b) + 10\nprint(\"El resultado de (a * b) + 10 es:\", resultado)",
      "metadata": {
        "trusted": true
      },
      "outputs": [
        {
          "name": "stdout",
          "output_type": "stream",
          "text": "El resultado de (a * b) + 10 es: 34\n"
        }
      ],
      "execution_count": 9
    },
    {
      "id": "f924c659-e7f0-4fa1-864f-cc41f677e9f4",
      "cell_type": "code",
      "source": "# Conversión de minutos a horas\nminutos = 150\nhoras = minutos / 60\nprint(minutos, \"minutos son\", horas, \"horas.\")",
      "metadata": {
        "trusted": true
      },
      "outputs": [
        {
          "name": "stdout",
          "output_type": "stream",
          "text": "150 minutos son 2.5 horas.\n"
        }
      ],
      "execution_count": 10
    },
    {
      "id": "5ff147a3-7f58-439d-8e50-cda249ad0da6",
      "cell_type": "markdown",
      "source": "## Objetivos\n\n- Comprender las bases de la Ciencia de Datos.\n- Aprender las herramientas más utilizadas.\n- Aplicar ejemplos prácticos simples.",
      "metadata": {}
    },
    {
      "id": "e640561d-dcbd-4214-a262-abbd758194a2",
      "cell_type": "markdown",
      "source": "## Autor\n\nSofía Coniglio",
      "metadata": {}
    }
  ]
}